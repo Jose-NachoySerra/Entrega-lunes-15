{
 "cells": [
  {
   "cell_type": "code",
   "execution_count": null,
   "metadata": {},
   "outputs": [],
   "source": [
    "import pandas as pd\n",
    "\n",
    "# Lee el archivo CSV\n",
    "data = pd.read_csv(\"madrid-airbnb-listings-small.csv\", sep = '\t' )\n",
    "\n",
    "# Muestra las primeras filas del archivo\n",
    "print(data.head())"
   ]
  }
 ],
 "metadata": {
  "kernelspec": {
   "display_name": "Python 3.10.11 64-bit (microsoft store)",
   "language": "python",
   "name": "python3"
  },
  "language_info": {
   "name": "python",
   "version": "3.10.11"
  },
  "orig_nbformat": 4,
  "vscode": {
   "interpreter": {
    "hash": "ad3b0cd1acfef684cc2fde4e9122a3101adc2b8d9568ead10c63363fe6c1f032"
   }
  }
 },
 "nbformat": 4,
 "nbformat_minor": 2
}
